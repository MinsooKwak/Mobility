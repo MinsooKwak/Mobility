{
  "nbformat": 4,
  "nbformat_minor": 0,
  "metadata": {
    "colab": {
      "name": "subway_practice.ipynb",
      "provenance": [],
      "collapsed_sections": [],
      "authorship_tag": "ABX9TyOLZPTeYuIUmGbl+ytYygyC",
      "include_colab_link": true
    },
    "kernelspec": {
      "name": "python3",
      "display_name": "Python 3"
    },
    "language_info": {
      "name": "python"
    }
  },
  "cells": [
    {
      "cell_type": "markdown",
      "metadata": {
        "id": "view-in-github",
        "colab_type": "text"
      },
      "source": [
        "<a href=\"https://colab.research.google.com/github/MinsooKwak/Mobility/blob/main/Subway/subway_practice.ipynb\" target=\"_parent\"><img src=\"https://colab.research.google.com/assets/colab-badge.svg\" alt=\"Open In Colab\"/></a>"
      ]
    },
    {
      "cell_type": "markdown",
      "source": [
        "- 활용한 데이터 : \n",
        "  - 서울특별시 도시교통실 교통기획관 교통정책과에서 제공\n",
        "  - 서울시 지하철호선별 역별 승하차 인원 정보를 활용하였음.\n",
        "  - https://data.seoul.go.kr/dataList/OA-12914/S/1/datasetView.do"
      ],
      "metadata": {
        "id": "_W2LNYXIikMN"
      }
    },
    {
      "cell_type": "code",
      "source": [
        "#!sudo apt-get install -y fonts-nanum  ## 폰트설치\n",
        "#!sudo fc-cache -fv ## 폰트 업데이트\n",
        "#!rm ~/.cache/matplotlib -rf ## 캐쉬된 matplotlib 폰트 삭제하여 재로딩"
      ],
      "metadata": {
        "id": "Pcu3_EbBbibe"
      },
      "execution_count": 1,
      "outputs": []
    },
    {
      "cell_type": "code",
      "execution_count": 2,
      "metadata": {
        "colab": {
          "base_uri": "https://localhost:8080/"
        },
        "id": "fv6aYpRPa_vP",
        "outputId": "40e953f5-8a24-4f13-c927-3307c3f18d9c"
      },
      "outputs": [
        {
          "output_type": "stream",
          "name": "stdout",
          "text": [
            "Drive already mounted at /content/drive; to attempt to forcibly remount, call drive.mount(\"/content/drive\", force_remount=True).\n"
          ]
        }
      ],
      "source": [
        "#import할 패키지 목록\n",
        "import pandas as pd\n",
        "import numpy as np\n",
        "\n",
        "import seaborn as sns\n",
        "import matplotlib as mpl\n",
        "import matplotlib.pyplot as plt\n",
        "import matplotlib.font_manager as fm  # 폰트 관련 용도\n",
        "import missingno as msno\n",
        "\n",
        "# 경고를 무시합니다.\n",
        "import warnings\n",
        "warnings.filterwarnings(\"ignore\")\n",
        "\n",
        "# 구글 드라이브 호출\n",
        "from google.colab import drive\n",
        "drive.mount('/content/drive')"
      ]
    },
    {
      "cell_type": "code",
      "source": [
        "# ttflist에 Nanum 글자 들어가는 폰트 있는지 확인하는 코드\n",
        "f = [f.name for f in fm.fontManager.ttflist if 'Nanum' in f.name]\n",
        "f\n",
        "\n",
        "#폰트종류설정\n",
        "plt.rcParams[\"font.family\"] ='NanumSquare'\n",
        "\n",
        "# 현재 설정되어 있는 폰트 사이즈와 글꼴을 알아보자\n",
        "!python --version\n",
        "def current_font():\n",
        "  print(f\"설정 폰트 글꼴: {plt.rcParams['font.family']}, 설정 폰트 사이즈: {plt.rcParams['font.size']}\")  # 파이썬 3.6 이상 사용가능하다\n",
        "        \n",
        "current_font()"
      ],
      "metadata": {
        "colab": {
          "base_uri": "https://localhost:8080/"
        },
        "id": "naU2cnKDb1TS",
        "outputId": "5e688e6c-46aa-4ea8-f93c-389798dbce1b"
      },
      "execution_count": 3,
      "outputs": [
        {
          "output_type": "stream",
          "name": "stdout",
          "text": [
            "Python 3.7.13\n",
            "설정 폰트 글꼴: ['NanumSquare'], 설정 폰트 사이즈: 10.0\n"
          ]
        }
      ]
    },
    {
      "cell_type": "code",
      "source": [
        "# 총 2년치 데이터\n",
        "\n",
        "# 데이터 1년치\n",
        "#df_202002 = pd.read_csv('/content/drive/MyDrive/data/public_data/subway_data/CARD_SUBWAY_MONTH_202002.csv',encoding='cp949')\n",
        "#df_202003 = pd.read_csv('/content/drive/MyDrive/data/public_data/subway_data/CARD_SUBWAY_MONTH_202003.csv',encoding='cp949')\n",
        "df_202004 = pd.read_csv('/content/drive/MyDrive/data/public_data/subway_data/CARD_SUBWAY_MONTH_202004.csv',encoding='cp949')\n",
        "df_202005 = pd.read_csv('/content/drive/MyDrive/data/public_data/subway_data/CARD_SUBWAY_MONTH_202005.csv')\n",
        "df_202006 = pd.read_csv('/content/drive/MyDrive/data/public_data/subway_data/CARD_SUBWAY_MONTH_202006.csv')\n",
        "df_202007 = pd.read_csv('/content/drive/MyDrive/data/public_data/subway_data/CARD_SUBWAY_MONTH_202007.csv')\n",
        "df_202008 = pd.read_csv('/content/drive/MyDrive/data/public_data/subway_data/CARD_SUBWAY_MONTH_202008.csv')\n",
        "df_202009 = pd.read_csv('/content/drive/MyDrive/data/public_data/subway_data/CARD_SUBWAY_MONTH_202009.csv',encoding='cp949')\n",
        "df_202010 = pd.read_csv('/content/drive/MyDrive/data/public_data/subway_data/CARD_SUBWAY_MONTH_202010.csv')\n",
        "df_202011 = pd.read_csv('/content/drive/MyDrive/data/public_data/subway_data/CARD_SUBWAY_MONTH_202011.csv')\n",
        "df_202012 = pd.read_csv('/content/drive/MyDrive/data/public_data/subway_data/CARD_SUBWAY_MONTH_202012.csv')\n",
        "df_202101 = pd.read_csv('/content/drive/MyDrive/data/public_data/subway_data/CARD_SUBWAY_MONTH_202101.csv')\n",
        "df_202102 = pd.read_csv('/content/drive/MyDrive/data/public_data/subway_data/CARD_SUBWAY_MONTH_202102.csv')\n",
        "\n",
        "# 최신 데이터 1년치\n",
        "df_202103 = pd.read_csv('/content/drive/MyDrive/data/public_data/subway_data/CARD_SUBWAY_MONTH_202103.csv')\n",
        "df_202104 = pd.read_csv('/content/drive/MyDrive/data/public_data/subway_data/CARD_SUBWAY_MONTH_202104.csv')\n",
        "df_202105 = pd.read_csv('/content/drive/MyDrive/data/public_data/subway_data/CARD_SUBWAY_MONTH_202105.csv')\n",
        "df_202106 = pd.read_csv('/content/drive/MyDrive/data/public_data/subway_data/CARD_SUBWAY_MONTH_202106.csv')\n",
        "df_202107 = pd.read_csv('/content/drive/MyDrive/data/public_data/subway_data/CARD_SUBWAY_MONTH_202107.csv')\n",
        "df_202108 = pd.read_csv('/content/drive/MyDrive/data/public_data/subway_data/CARD_SUBWAY_MONTH_202108.csv')\n",
        "df_202109 = pd.read_csv('/content/drive/MyDrive/data/public_data/subway_data/CARD_SUBWAY_MONTH_202109.csv')\n",
        "df_202110 = pd.read_csv('/content/drive/MyDrive/data/public_data/subway_data/CARD_SUBWAY_MONTH_202110.csv')\n",
        "df_202111 = pd.read_csv('/content/drive/MyDrive/data/public_data/subway_data/CARD_SUBWAY_MONTH_202111.csv')\n",
        "df_202112 = pd.read_csv('/content/drive/MyDrive/data/public_data/subway_data/CARD_SUBWAY_MONTH_202112.csv')\n",
        "df_202201 = pd.read_csv('/content/drive/MyDrive/data/public_data/subway_data/CARD_SUBWAY_MONTH_202201.csv')\n",
        "df_202202 = pd.read_csv('/content/drive/MyDrive/data/public_data/subway_data/CARD_SUBWAY_MONTH_202202.csv')\n",
        "df_202203 = pd.read_csv('/content/drive/MyDrive/data/public_data/subway_data/CARD_SUBWAY_MONTH_202203.csv')"
      ],
      "metadata": {
        "id": "1hUfIp4Udnwp"
      },
      "execution_count": 4,
      "outputs": []
    },
    {
      "cell_type": "code",
      "source": [
        "df = pd.concat([df_202004,df_202005,df_202006,df_202007,df_202008,df_202009,df_202010,df_202011,df_202012,df_202101,df_202102,\n",
        "                df_202103,df_202104,df_202105,df_202105,df_202106,df_202107,df_202108,df_202109,df_202110,df_202111,df_202112,df_202201,df_202202,df_202203])"
      ],
      "metadata": {
        "id": "tBGyVeWXfOMi"
      },
      "execution_count": 5,
      "outputs": []
    },
    {
      "cell_type": "code",
      "source": [
        "df.shape"
      ],
      "metadata": {
        "colab": {
          "base_uri": "https://localhost:8080/"
        },
        "id": "5KMH9gTQgD0d",
        "outputId": "cb751bc0-e20f-40e4-d8da-dec8dfeafe51"
      },
      "execution_count": 6,
      "outputs": [
        {
          "output_type": "execute_result",
          "data": {
            "text/plain": [
              "(453169, 6)"
            ]
          },
          "metadata": {},
          "execution_count": 6
        }
      ]
    },
    {
      "cell_type": "markdown",
      "source": [
        "2020년 4월부터 2022년 3월까지의 2년치에 대한 데이터는 총 45만건을 초과합니다."
      ],
      "metadata": {
        "id": "jPeq2qFEgIBR"
      }
    },
    {
      "cell_type": "code",
      "source": [
        "# 결측치 비율 확인\n",
        "%matplotlib inline\n",
        "msno.matrix(df, figsize=(17,8), fontsize=14);"
      ],
      "metadata": {
        "colab": {
          "base_uri": "https://localhost:8080/",
          "height": 547
        },
        "id": "8k8Hp2BclI2X",
        "outputId": "b9c1b4c0-8e9b-4a2c-eaad-6cd6d33c6259"
      },
      "execution_count": 7,
      "outputs": [
        {
          "output_type": "display_data",
          "data": {
            "text/plain": [
              "<Figure size 1224x576 with 2 Axes>"
            ],
            "image/png": "[encoded data removed]"
          },
          "metadata": {
            "needs_background": "light"
          }
        }
      ]
    },
    {
      "cell_type": "code",
      "source": [
        "msno.bar(df, figsize=(17,6), fontsize=14);"
      ],
      "metadata": {
        "colab": {
          "base_uri": "https://localhost:8080/",
          "height": 479
        },
        "id": "zKCZUm-ZlMwS",
        "outputId": "bebbf8ee-69d6-4101-8429-4d35b0744fee"
      },
      "execution_count": 8,
      "outputs": [
        {
          "output_type": "display_data",
          "data": {
            "text/plain": [
              "<Figure size 1224x432 with 3 Axes>"
            ],
            "image/png": "[encoded data removed]"
          },
          "metadata": {
            "needs_background": "light"
          }
        }
      ]
    },
    {
      "cell_type": "code",
      "source": [
        "df[~df['등록일자'].isna()]"
      ],
      "metadata": {
        "colab": {
          "base_uri": "https://localhost:8080/",
          "height": 424
        },
        "id": "txr21Vp9lS7l",
        "outputId": "e543bdaa-e188-4603-bd90-0ac89fb5391f"
      },
      "execution_count": 9,
      "outputs": [
        {
          "output_type": "execute_result",
          "data": {
            "text/plain": [
              "           사용일자  노선명     역명   승차총승객수   하차총승객수        등록일자\n",
              "0      20200401  장항선     아산   1557.0   1426.0  20200404.0\n",
              "1      20200401  1호선     종각  31105.0  30397.0  20200404.0\n",
              "2      20200401  1호선   종로3가  21991.0  20842.0  20200404.0\n",
              "3      20200401  1호선   종로5가  18925.0  19126.0  20200404.0\n",
              "4      20200401  1호선    동대문   9482.0   9373.0  20200404.0\n",
              "...         ...  ...    ...      ...      ...         ...\n",
              "17717  20200430  7호선     상동   7730.0   7786.0  20200503.0\n",
              "17718  20200430  7호선  삼산체육관   2616.0   2286.0  20200503.0\n",
              "17719  20200430  7호선    굴포천   4990.0   5027.0  20200503.0\n",
              "17720  20200430  7호선   부평구청   5413.0   4684.0  20200503.0\n",
              "17721  20200430  8호선     암사  10113.0   8961.0  20200503.0\n",
              "\n",
              "[17722 rows x 6 columns]"
            ],
            "text/html": [
              "\n",
              "  <div id=\"df-16671c4c-7fc1-44b0-94cf-8ed727bc87ad\">\n",
              "    <div class=\"colab-df-container\">\n",
              "      <div>\n",
              "<style scoped>\n",
              "    .dataframe tbody tr th:only-of-type {\n",
              "        vertical-align: middle;\n",
              "    }\n",
              "\n",
              "    .dataframe tbody tr th {\n",
              "        vertical-align: top;\n",
              "    }\n",
              "\n",
              "    .dataframe thead th {\n",
              "        text-align: right;\n",
              "    }\n",
              "</style>\n",
              "<table border=\"1\" class=\"dataframe\">\n",
              "  <thead>\n",
              "    <tr style=\"text-align: right;\">\n",
              "      <th></th>\n",
              "      <th>사용일자</th>\n",
              "      <th>노선명</th>\n",
              "      <th>역명</th>\n",
              "      <th>승차총승객수</th>\n",
              "      <th>하차총승객수</th>\n",
              "      <th>등록일자</th>\n",
              "    </tr>\n",
              "  </thead>\n",
              "  <tbody>\n",
              "    <tr>\n",
              "      <th>0</th>\n",
              "      <td>20200401</td>\n",
              "      <td>장항선</td>\n",
              "      <td>아산</td>\n",
              "      <td>1557.0</td>\n",
              "      <td>1426.0</td>\n",
              "      <td>20200404.0</td>\n",
              "    </tr>\n",
              "    <tr>\n",
              "      <th>1</th>\n",
              "      <td>20200401</td>\n",
              "      <td>1호선</td>\n",
              "      <td>종각</td>\n",
              "      <td>31105.0</td>\n",
              "      <td>30397.0</td>\n",
              "      <td>20200404.0</td>\n",
              "    </tr>\n",
              "    <tr>\n",
              "      <th>2</th>\n",
              "      <td>20200401</td>\n",
              "      <td>1호선</td>\n",
              "      <td>종로3가</td>\n",
              "      <td>21991.0</td>\n",
              "      <td>20842.0</td>\n",
              "      <td>20200404.0</td>\n",
              "    </tr>\n",
              "    <tr>\n",
              "      <th>3</th>\n",
              "      <td>20200401</td>\n",
              "      <td>1호선</td>\n",
              "      <td>종로5가</td>\n",
              "      <td>18925.0</td>\n",
              "      <td>19126.0</td>\n",
              "      <td>20200404.0</td>\n",
              "    </tr>\n",
              "    <tr>\n",
              "      <th>4</th>\n",
              "      <td>20200401</td>\n",
              "      <td>1호선</td>\n",
              "      <td>동대문</td>\n",
              "      <td>9482.0</td>\n",
              "      <td>9373.0</td>\n",
              "      <td>20200404.0</td>\n",
              "    </tr>\n",
              "    <tr>\n",
              "      <th>...</th>\n",
              "      <td>...</td>\n",
              "      <td>...</td>\n",
              "      <td>...</td>\n",
              "      <td>...</td>\n",
              "      <td>...</td>\n",
              "      <td>...</td>\n",
              "    </tr>\n",
              "    <tr>\n",
              "      <th>17717</th>\n",
              "      <td>20200430</td>\n",
              "      <td>7호선</td>\n",
              "      <td>상동</td>\n",
              "      <td>7730.0</td>\n",
              "      <td>7786.0</td>\n",
              "      <td>20200503.0</td>\n",
              "    </tr>\n",
              "    <tr>\n",
              "      <th>17718</th>\n",
              "      <td>20200430</td>\n",
              "      <td>7호선</td>\n",
              "      <td>삼산체육관</td>\n",
              "      <td>2616.0</td>\n",
              "      <td>2286.0</td>\n",
              "      <td>20200503.0</td>\n",
              "    </tr>\n",
              "    <tr>\n",
              "      <th>17719</th>\n",
              "      <td>20200430</td>\n",
              "      <td>7호선</td>\n",
              "      <td>굴포천</td>\n",
              "      <td>4990.0</td>\n",
              "      <td>5027.0</td>\n",
              "      <td>20200503.0</td>\n",
              "    </tr>\n",
              "    <tr>\n",
              "      <th>17720</th>\n",
              "      <td>20200430</td>\n",
              "      <td>7호선</td>\n",
              "      <td>부평구청</td>\n",
              "      <td>5413.0</td>\n",
              "      <td>4684.0</td>\n",
              "      <td>20200503.0</td>\n",
              "    </tr>\n",
              "    <tr>\n",
              "      <th>17721</th>\n",
              "      <td>20200430</td>\n",
              "      <td>8호선</td>\n",
              "      <td>암사</td>\n",
              "      <td>10113.0</td>\n",
              "      <td>8961.0</td>\n",
              "      <td>20200503.0</td>\n",
              "    </tr>\n",
              "  </tbody>\n",
              "</table>\n",
              "<p>17722 rows × 6 columns</p>\n",
              "</div>\n",
              "      <button class=\"colab-df-convert\" onclick=\"convertToInteractive('df-16671c4c-7fc1-44b0-94cf-8ed727bc87ad')\"\n",
              "              title=\"Convert this dataframe to an interactive table.\"\n",
              "              style=\"display:none;\">\n",
              "        \n",
              "  <svg xmlns=\"http://www.w3.org/2000/svg\" height=\"24px\"viewBox=\"0 0 24 24\"\n",
              "       width=\"24px\">\n",
              "    <path d=\"M0 0h24v24H0V0z\" fill=\"none\"/>\n",
              "    <path d=\"M18.56 5.44l.94 2.06.94-2.06 2.06-.94-2.06-.94-.94-2.06-.94 2.06-2.06.94zm-11 1L8.5 8.5l.94-2.06 2.06-.94-2.06-.94L8.5 2.5l-.94 2.06-2.06.94zm10 10l.94 2.06.94-2.06 2.06-.94-2.06-.94-.94-2.06-.94 2.06-2.06.94z\"/><path d=\"M17.41 7.96l-1.37-1.37c-.4-.4-.92-.59-1.43-.59-.52 0-1.04.2-1.43.59L10.3 9.45l-7.72 7.72c-.78.78-.78 2.05 0 2.83L4 21.41c.39.39.9.59 1.41.59.51 0 1.02-.2 1.41-.59l7.78-7.78 2.81-2.81c.8-.78.8-2.07 0-2.86zM5.41 20L4 18.59l7.72-7.72 1.47 1.35L5.41 20z\"/>\n",
              "  </svg>\n",
              "      </button>\n",
              "      \n",
              "  <style>\n",
              "    .colab-df-container {\n",
              "      display:flex;\n",
              "      flex-wrap:wrap;\n",
              "      gap: 12px;\n",
              "    }\n",
              "\n",
              "    .colab-df-convert {\n",
              "      background-color: #E8F0FE;\n",
              "      border: none;\n",
              "      border-radius: 50%;\n",
              "      cursor: pointer;\n",
              "      display: none;\n",
              "      fill: #1967D2;\n",
              "      height: 32px;\n",
              "      padding: 0 0 0 0;\n",
              "      width: 32px;\n",
              "    }\n",
              "\n",
              "    .colab-df-convert:hover {\n",
              "      background-color: #E2EBFA;\n",
              "      box-shadow: 0px 1px 2px rgba(60, 64, 67, 0.3), 0px 1px 3px 1px rgba(60, 64, 67, 0.15);\n",
              "      fill: #174EA6;\n",
              "    }\n",
              "\n",
              "    [theme=dark] .colab-df-convert {\n",
              "      background-color: #3B4455;\n",
              "      fill: #D2E3FC;\n",
              "    }\n",
              "\n",
              "    [theme=dark] .colab-df-convert:hover {\n",
              "      background-color: #434B5C;\n",
              "      box-shadow: 0px 1px 3px 1px rgba(0, 0, 0, 0.15);\n",
              "      filter: drop-shadow(0px 1px 2px rgba(0, 0, 0, 0.3));\n",
              "      fill: #FFFFFF;\n",
              "    }\n",
              "  </style>\n",
              "\n",
              "      <script>\n",
              "        const buttonEl =\n",
              "          document.querySelector('#df-16671c4c-7fc1-44b0-94cf-8ed727bc87ad button.colab-df-convert');\n",
              "        buttonEl.style.display =\n",
              "          google.colab.kernel.accessAllowed ? 'block' : 'none';\n",
              "\n",
              "        async function convertToInteractive(key) {\n",
              "          const element = document.querySelector('#df-16671c4c-7fc1-44b0-94cf-8ed727bc87ad');\n",
              "          const dataTable =\n",
              "            await google.colab.kernel.invokeFunction('convertToInteractive',\n",
              "                                                     [key], {});\n",
              "          if (!dataTable) return;\n",
              "\n",
              "          const docLinkHtml = 'Like what you see? Visit the ' +\n",
              "            '<a target=\"_blank\" href=https://colab.research.google.com/notebooks/data_table.ipynb>data table notebook</a>'\n",
              "            + ' to learn more about interactive tables.';\n",
              "          element.innerHTML = '';\n",
              "          dataTable['output_type'] = 'display_data';\n",
              "          await google.colab.output.renderOutput(dataTable, element);\n",
              "          const docLink = document.createElement('div');\n",
              "          docLink.innerHTML = docLinkHtml;\n",
              "          element.appendChild(docLink);\n",
              "        }\n",
              "      </script>\n",
              "    </div>\n",
              "  </div>\n",
              "  "
            ]
          },
          "metadata": {},
          "execution_count": 9
        }
      ]
    },
    {
      "cell_type": "markdown",
      "source": [
        "등록일자에 대한 데이터는 2020년 4월의 데이터를 제외하고 전부 등록되어 있지 않은 것으로 나타난다.\n",
        "\n",
        "따라서 해당 feature는 제거해주도록 하겠다."
      ],
      "metadata": {
        "id": "4CyIK78Kll1N"
      }
    },
    {
      "cell_type": "code",
      "source": [
        ""
      ],
      "metadata": {
        "id": "d3n-MneDljl3"
      },
      "execution_count": null,
      "outputs": []
    }
  ]
}